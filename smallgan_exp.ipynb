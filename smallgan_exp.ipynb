{
  "nbformat": 4,
  "nbformat_minor": 0,
  "metadata": {
    "colab": {
      "name": "smallgan_exp.ipynb",
      "provenance": [],
      "collapsed_sections": [],
      "toc_visible": true,
      "include_colab_link": true
    },
    "kernelspec": {
      "name": "python3",
      "display_name": "Python 3"
    },
    "accelerator": "GPU"
  },
  "cells": [
    {
      "cell_type": "markdown",
      "metadata": {
        "id": "view-in-github",
        "colab_type": "text"
      },
      "source": [
        "<a href=\"https://colab.research.google.com/github/mevius6/smallgan-exp/blob/master/smallgan_exp.ipynb\" target=\"_parent\"><img src=\"https://colab.research.google.com/assets/colab-badge.svg\" alt=\"Open In Colab\"/></a>"
      ]
    },
    {
      "cell_type": "markdown",
      "metadata": {
        "id": "u-_8cIdHWbYI"
      },
      "source": [
        "## Установка\n",
        "[Здесь](https://github.com/apple2373/pytorch-small-dataset-image-generation) используется BigGAN для 128x128\n",
        "\n",
        "[Авторский репоз для 256x256](https://github.com/nogu-atsu/small-dataset-image-generation)\n",
        "\n",
        "\n",
        "---\n",
        "\n",
        "\n",
        "[setup_dataloader_smallgan.py ](https://github.com/mevius6/ml-smallgan/blob/master/dataloaders/setup_dataloader_smallgan.py) — торч подгружает/трансформирует данные\n",
        "\n",
        "[setup_model.py](https://github.com/mevius6/ml-smallgan/blob/master/models/setup_model.py) — конфиг для биггана\n",
        "\n",
        "[BigGAN.py](https://github.com/mevius6/ml-smallgan/blob/master/models/BigGAN.py) — модель PyTorch (torch.nn.Module)  + *реализован дискриминатор*\n",
        "\n",
        "[AdaBIGGAN.py](https://github.com/mevius6/ml-smallgan/blob/master/models/AdaBIGGAN.py) — адаптивная модель, реализует [авторский генератор](https://github.com/nogu-atsu/SmallGAN/blob/2293700dce1e2cd97e25148543532814659516bd/gen_models/ada_generator.py#L242-L294)"
      ]
    },
    {
      "cell_type": "code",
      "metadata": {
        "id": "Bdvq8qC9oKgc",
        "colab": {
          "base_uri": "https://localhost:8080/",
          "height": 149
        },
        "outputId": "e9abf9a1-3e53-432a-9e1b-d901eefb2466"
      },
      "source": [
        "!git clone https://github.com/mevius6/ml-smallgan.git"
      ],
      "execution_count": null,
      "outputs": [
        {
          "output_type": "stream",
          "text": [
            "Cloning into 'ml-smallgan'...\n",
            "remote: Enumerating objects: 390, done.\u001b[K\n",
            "remote: Counting objects: 100% (390/390), done.\u001b[K\n",
            "remote: Compressing objects: 100% (351/351), done.\u001b[K\n",
            "remote: Total 390 (delta 74), reused 344 (delta 33), pack-reused 0\u001b[K\n",
            "Receiving objects: 100% (390/390), 86.51 MiB | 37.52 MiB/s, done.\n",
            "Resolving deltas: 100% (74/74), done.\n"
          ],
          "name": "stdout"
        }
      ]
    },
    {
      "cell_type": "code",
      "metadata": {
        "id": "6C0ZwSXcocZt",
        "colab": {
          "base_uri": "https://localhost:8080/",
          "height": 36
        },
        "outputId": "38bf38a5-2cdd-4d93-e97d-41e08831d57e"
      },
      "source": [
        "cd ml-smallgan"
      ],
      "execution_count": null,
      "outputs": [
        {
          "output_type": "stream",
          "text": [
            "/content/ml-smallgan\n"
          ],
          "name": "stdout"
        }
      ]
    },
    {
      "cell_type": "markdown",
      "metadata": {
        "id": "sSgUKH92kJr4"
      },
      "source": [
        "[Основная контрольная точка для BigGAN](https://drive.google.com/open?id=1nAle7FCVFZdix2--ks0r5JBkFnKw8ctW), обученного в ImageNet с разрешением 128x128, с использованием [BS256](https://github.com/ajbrock/BigGAN-PyTorch/blob/master/scripts/sample_BigGAN_bs256x8.sh) и 8 градиентных накоплений, взятых перед коллапсом, с начальным показателем TF 97,35 +/- 1,79"
      ]
    },
    {
      "cell_type": "code",
      "metadata": {
        "id": "F4xnBi1Zojlr",
        "colab": {
          "base_uri": "https://localhost:8080/",
          "height": 150
        },
        "outputId": "d3763a65-5edc-4681-b916-815edcabad7a"
      },
      "source": [
        "!gdown https://drive.google.com/open?id=1IIT8RJe7x3ghMaP5EfViIVAve_S_6F_Y"
      ],
      "execution_count": null,
      "outputs": [
        {
          "output_type": "stream",
          "text": [
            "/usr/local/lib/python2.7/dist-packages/gdown/parse_url.py:31: UserWarning: You specified Google Drive Link but it is not the correct link to download the file. Maybe you should try: https://drive.google.com/uc?id=1IIT8RJe7x3ghMaP5EfViIVAve_S_6F_Y\n",
            "  .format(url='https://drive.google.com/uc?id={}'.format(file_id))\n",
            "Downloading...\n",
            "From: https://drive.google.com/open?id=1IIT8RJe7x3ghMaP5EfViIVAve_S_6F_Y\n",
            "To: /content/ml-smallgan/open?id=1IIT8RJe7x3ghMaP5EfViIVAve_S_6F_Y\n",
            "185kB [00:00, 753kB/s]\n"
          ],
          "name": "stdout"
        }
      ]
    },
    {
      "cell_type": "code",
      "metadata": {
        "id": "JH4srGXhpDoT",
        "colab": {
          "base_uri": "https://localhost:8080/",
          "height": 36
        },
        "outputId": "873e2a05-8d42-4ad5-c08f-6dfce2fceffa"
      },
      "source": [
        "!unzip BigGAN_ch96_bs256x8_138k.zip"
      ],
      "execution_count": null,
      "outputs": [
        {
          "output_type": "stream",
          "text": [
            "unzip:  cannot find or open BigGAN_ch96_bs256x8_138k.zip, BigGAN_ch96_bs256x8_138k.zip.zip or BigGAN_ch96_bs256x8_138k.zip.ZIP.\n"
          ],
          "name": "stdout"
        }
      ]
    },
    {
      "cell_type": "markdown",
      "metadata": {
        "id": "g-1Q7Ye_oh_P"
      },
      "source": [
        "[Нужные веса](https://github.com/ajbrock/BigGAN-PyTorch/issues/8#issuecomment-477358969/) для генератора G.pth или G_ema.pth "
      ]
    },
    {
      "cell_type": "code",
      "metadata": {
        "id": "X7IYnIsLpbvm",
        "colab": {
          "base_uri": "https://localhost:8080/",
          "height": 36
        },
        "outputId": "33639927-09c2-48d8-b68a-7dfd398906e4"
      },
      "source": [
        "!mv 138k/G_ema.pth data/"
      ],
      "execution_count": null,
      "outputs": [
        {
          "output_type": "stream",
          "text": [
            "mv: cannot stat '138k/G_ema.pth': No such file or directory\n"
          ],
          "name": "stdout"
        }
      ]
    },
    {
      "cell_type": "markdown",
      "metadata": {
        "id": "2_LNz5PYpERM"
      },
      "source": [
        "## Обучение"
      ]
    },
    {
      "cell_type": "code",
      "metadata": {
        "id": "pPBvWDCZoPDN",
        "colab": {
          "base_uri": "https://localhost:8080/",
          "height": 490
        },
        "outputId": "3faa3778-99a1-47a1-bf62-92efc34b644b"
      },
      "source": [
        "!wget https://www.dropbox.com/s/ikl574rrmuefyyv/checkpoint_iter25000.pth.tar"
      ],
      "execution_count": null,
      "outputs": [
        {
          "output_type": "stream",
          "text": [
            "--2019-10-06 19:39:06--  https://www.dropbox.com/s/ikl574rrmuefyyv/checkpoint_iter25000.pth.tar\n",
            "Resolving www.dropbox.com (www.dropbox.com)... 162.125.8.1, 2620:100:601b:1::a27d:801\n",
            "Connecting to www.dropbox.com (www.dropbox.com)|162.125.8.1|:443... connected.\n",
            "HTTP request sent, awaiting response... 301 Moved Permanently\n",
            "Location: /s/raw/ikl574rrmuefyyv/checkpoint_iter25000.pth.tar [following]\n",
            "--2019-10-06 19:39:06--  https://www.dropbox.com/s/raw/ikl574rrmuefyyv/checkpoint_iter25000.pth.tar\n",
            "Reusing existing connection to www.dropbox.com:443.\n",
            "HTTP request sent, awaiting response... 302 Found\n",
            "Location: https://ucbd6816eeb911b4866e2df0fc65.dl.dropboxusercontent.com/cd/0/inline/Ap70TMrNplBHccOtscEnoFS2RXeyQRNhg24u9YU0b_W45TkMS_3avVVGGKYiHHXf2QcyQc0IOyXKY5mPtpOx3Er7a2IL2fjo3Qjk0Oj--KGDhw/file# [following]\n",
            "--2019-10-06 19:39:06--  https://ucbd6816eeb911b4866e2df0fc65.dl.dropboxusercontent.com/cd/0/inline/Ap70TMrNplBHccOtscEnoFS2RXeyQRNhg24u9YU0b_W45TkMS_3avVVGGKYiHHXf2QcyQc0IOyXKY5mPtpOx3Er7a2IL2fjo3Qjk0Oj--KGDhw/file\n",
            "Resolving ucbd6816eeb911b4866e2df0fc65.dl.dropboxusercontent.com (ucbd6816eeb911b4866e2df0fc65.dl.dropboxusercontent.com)... 162.125.8.6, 2620:100:601b:6::a27d:806\n",
            "Connecting to ucbd6816eeb911b4866e2df0fc65.dl.dropboxusercontent.com (ucbd6816eeb911b4866e2df0fc65.dl.dropboxusercontent.com)|162.125.8.6|:443... connected.\n",
            "HTTP request sent, awaiting response... 302 FOUND\n",
            "Location: /cd/0/inline2/Ap4e7dCl-FhqNrHE9m4HtS39SUrzhfAX9qAnzIa1eMxiQNtB6Bk9UX903LKw0FSym4EH4YZNuIHdhl3M8q0RiTSEtjMKtPe-nmMpfKKg1oXde2H2zZW2OMJ21Vwo5QjanE9ABZ3B3W-Hzzx09ciliDaoKXzKQnjlrc2xHDl2GH8KKhrr9FpK1J5xIf4w_gUpY62geC2WnU0Kb8m-Th-F7suB52_xqGPcNTeXNSetDI_nKoBck5vqN_TXUabQKllESrCojK0uvhOr5GVLCT1cUPf9fv5Qzfxln8p31ivrkNImKjd3ev36b1RIP6TUrbsjp-j_xXEJVYDPKCN_1Bci2wbP/file [following]\n",
            "--2019-10-06 19:39:07--  https://ucbd6816eeb911b4866e2df0fc65.dl.dropboxusercontent.com/cd/0/inline2/Ap4e7dCl-FhqNrHE9m4HtS39SUrzhfAX9qAnzIa1eMxiQNtB6Bk9UX903LKw0FSym4EH4YZNuIHdhl3M8q0RiTSEtjMKtPe-nmMpfKKg1oXde2H2zZW2OMJ21Vwo5QjanE9ABZ3B3W-Hzzx09ciliDaoKXzKQnjlrc2xHDl2GH8KKhrr9FpK1J5xIf4w_gUpY62geC2WnU0Kb8m-Th-F7suB52_xqGPcNTeXNSetDI_nKoBck5vqN_TXUabQKllESrCojK0uvhOr5GVLCT1cUPf9fv5Qzfxln8p31ivrkNImKjd3ev36b1RIP6TUrbsjp-j_xXEJVYDPKCN_1Bci2wbP/file\n",
            "Reusing existing connection to ucbd6816eeb911b4866e2df0fc65.dl.dropboxusercontent.com:443.\n",
            "HTTP request sent, awaiting response... 200 OK\n",
            "Length: 281531779 (268M) [application/x-tar]\n",
            "Saving to: ‘checkpoint_iter25000.pth.tar’\n",
            "\n",
            "checkpoint_iter2500 100%[===================>] 268.49M  37.3MB/s    in 7.4s    \n",
            "\n",
            "2019-10-06 19:39:15 (36.2 MB/s) - ‘checkpoint_iter25000.pth.tar’ saved [281531779/281531779]\n",
            "\n"
          ],
          "name": "stdout"
        }
      ]
    },
    {
      "cell_type": "code",
      "metadata": {
        "id": "BfNYfSvwv6gU",
        "colab": {
          "base_uri": "https://localhost:8080/",
          "height": 338
        },
        "outputId": "39f233e3-464f-49c3-ce02-bd2185143b98"
      },
      "source": [
        "!python train.py --dataset rave --gpu 0 --pretrained ./data/G_ema.pth --resume \"/content/ml-smallgan/checkpoint_iter25000.pth.tar\" --iters 100"
      ],
      "execution_count": null,
      "outputs": [
        {
          "output_type": "stream",
          "text": [
            "gpu id: 0\n",
            "using device: cuda:0\n",
            "made the log directory ./experiments/train_dataset-rave_model-biggan128-ada_2019-10-06-19-39-18\n",
            "cannot import gitpython; try pip install gitpython\n",
            "number of images (dataset size):  25\n",
            "model name: biggan128-ada\n",
            "Adding attention layer in G at resolution 64\n",
            "Traceback (most recent call last):\n",
            "  File \"train.py\", line 185, in <module>\n",
            "    main(args)\n",
            "  File \"train.py\", line 95, in main\n",
            "    model = setup_model(args.model,dataset_size=dataset_size,resume=args.resume,biggan_imagenet_pretrained_model_path=args.pretrained)\n",
            "  File \"/content/ml-smallgan/models/setup_model.py\", line 118, in setup_model\n",
            "    G.load_state_dict(torch.load(biggan_imagenet_pretrained_model_path,map_location=lambda storage, loc: storage))\n",
            "  File \"/usr/local/lib/python3.6/dist-packages/torch/serialization.py\", line 381, in load\n",
            "    f = open(f, 'rb')\n",
            "FileNotFoundError: [Errno 2] No such file or directory: './data/G_ema.pth'\n"
          ],
          "name": "stdout"
        }
      ]
    },
    {
      "cell_type": "markdown",
      "metadata": {
        "id": "GF-_dAzNnRTx"
      },
      "source": [
        "## Тестирование\n",
        "\n"
      ]
    },
    {
      "cell_type": "code",
      "metadata": {
        "id": "ahUgQd38LVPS"
      },
      "source": [
        "import glob\n",
        "import os\n",
        "import matplotlib\n",
        "from PIL import Image\n",
        "import numpy as np\n",
        "import json\n",
        "\n",
        "%matplotlib inline\n",
        "import matplotlib.pyplot as plt\n",
        "\n",
        "import torch\n",
        "import torchvision\n",
        "from models.setup_model import setup_model\n",
        "from dataloaders.setup_dataloader_smallgan import setup_dataloader\n",
        "\n",
        "\n",
        "def reconstruct(model,out_path,indices):\n",
        "    model.eval()\n",
        "    device = next(model.parameters()).device\n",
        "    dataset_size = model.embeddings.weight.size()[0]\n",
        "    assert type(indices)==torch.Tensor\n",
        "    indices = indices.to(device)        \n",
        "    embeddings = model.embeddings(indices)\n",
        "    batch_size = embeddings.size()[0]\n",
        "    image_tensors = model(embeddings)\n",
        "    with torch.no_grad():\n",
        "        torchvision.utils.save_image(\n",
        "            image_tensors,\n",
        "            out_path,\n",
        "            nrow=int(batch_size ** 0.5),\n",
        "            normalize=True,\n",
        "        )\n",
        "        \n",
        "#see https://github.com/nogu-atsu/SmallGAN/blob/2293700dce1e2cd97e25148543532814659516bd/gen_models/ada_generator.py#L37-L53\n",
        "def interpolate(model,out_path,source,dist,trncate=0.4,num=1):\n",
        "    model.eval()\n",
        "    device = next(model.parameters()).device\n",
        "    dataset_size = model.embeddings.weight.size()[0]\n",
        "    indices = torch.tensor([source,dist],device=device)\n",
        "    indices = indices.to(device) \n",
        "    embeddings = model.embeddings(indices)\n",
        "    embeddings = embeddings[[0]] * torch.linspace(1, 0, num,device=device)[:, None] + embeddings[[1]]* torch.linspace(0, 1, num,device=device)[:, None]\n",
        "    batch_size = embeddings.size()[0]\n",
        "    image_tensors = model(embeddings)\n",
        "    with torch.no_grad():\n",
        "        torchvision.utils.save_image(\n",
        "            image_tensors,\n",
        "            out_path,\n",
        "            nrow=batch_size,\n",
        "            normalize=True,\n",
        "        )\n",
        "\n",
        "#from https://github.com/nogu-atsu/SmallGAN/blob/2293700dce1e2cd97e25148543532814659516bd/gen_models/ada_generator.py#L37-L53        \n",
        "def random(model,out_path,tmp=0.4, n=9, truncate=False):\n",
        "    from scipy.stats import truncnorm\n",
        "    model.eval()\n",
        "    device = next(model.parameters()).device\n",
        "    dataset_size = model.embeddings.weight.size()[0]\n",
        "    dim_z = model.embeddings.weight.size(1)\n",
        "    if truncate:\n",
        "        embeddings = truncnorm(-tmp, tmp).rvs(n * dim_z).astype(\"float32\").reshape(n, dim_z)\n",
        "    else:\n",
        "        embeddings = np.random.normal(0, tmp, size=(n, dim_z)).astype(\"float32\")\n",
        "    embeddings = torch.tensor(embeddings,device=device)\n",
        "    batch_size = embeddings.size()[0]\n",
        "    image_tensors = model(embeddings)\n",
        "    with torch.no_grad():\n",
        "        torchvision.utils.save_image(\n",
        "            image_tensors,\n",
        "            out_path,\n",
        "            nrow=int(batch_size ** 0.5),\n",
        "            normalize=True,\n",
        "        )"
      ],
      "execution_count": null,
      "outputs": []
    },
    {
      "cell_type": "code",
      "metadata": {
        "id": "iCMs9EEEL48R",
        "colab": {
          "base_uri": "https://localhost:8080/",
          "height": 249
        },
        "outputId": "23cca78b-55e4-4605-9323-06860373bc61"
      },
      "source": [
        "dataloader = setup_dataloader(\"rave\",batch_size=2)\n",
        "dataset_size = len(dataloader.dataset)\n",
        "exp_dir = \"./experiments/train_dataset-rave_model-biggan128-ada_2019-09-03-20-51-16/\"\n",
        "print(json.load(open(exp_dir+\"args.json\")))\n",
        "model = setup_model(\"biggan128-ada\",dataset_size=25,resume=exp_dir+\"checkpoint_iter25000.pth.tar\")\n",
        "model = model.cuda()"
      ],
      "execution_count": null,
      "outputs": [
        {
          "output_type": "error",
          "ename": "FileNotFoundError",
          "evalue": "ignored",
          "traceback": [
            "\u001b[0;31m---------------------------------------------------------------------------\u001b[0m",
            "\u001b[0;31mFileNotFoundError\u001b[0m                         Traceback (most recent call last)",
            "\u001b[0;32m<ipython-input-9-c5893f7298ab>\u001b[0m in \u001b[0;36m<module>\u001b[0;34m()\u001b[0m\n\u001b[1;32m      2\u001b[0m \u001b[0mdataset_size\u001b[0m \u001b[0;34m=\u001b[0m \u001b[0mlen\u001b[0m\u001b[0;34m(\u001b[0m\u001b[0mdataloader\u001b[0m\u001b[0;34m.\u001b[0m\u001b[0mdataset\u001b[0m\u001b[0;34m)\u001b[0m\u001b[0;34m\u001b[0m\u001b[0;34m\u001b[0m\u001b[0m\n\u001b[1;32m      3\u001b[0m \u001b[0mexp_dir\u001b[0m \u001b[0;34m=\u001b[0m \u001b[0;34m\"./experiments/train_dataset-rave_model-biggan128-ada_2019-09-03-20-51-16/\"\u001b[0m\u001b[0;34m\u001b[0m\u001b[0;34m\u001b[0m\u001b[0m\n\u001b[0;32m----> 4\u001b[0;31m \u001b[0mprint\u001b[0m\u001b[0;34m(\u001b[0m\u001b[0mjson\u001b[0m\u001b[0;34m.\u001b[0m\u001b[0mload\u001b[0m\u001b[0;34m(\u001b[0m\u001b[0mopen\u001b[0m\u001b[0;34m(\u001b[0m\u001b[0mexp_dir\u001b[0m\u001b[0;34m+\u001b[0m\u001b[0;34m\"args.json\"\u001b[0m\u001b[0;34m)\u001b[0m\u001b[0;34m)\u001b[0m\u001b[0;34m)\u001b[0m\u001b[0;34m\u001b[0m\u001b[0;34m\u001b[0m\u001b[0m\n\u001b[0m\u001b[1;32m      5\u001b[0m \u001b[0mmodel\u001b[0m \u001b[0;34m=\u001b[0m \u001b[0msetup_model\u001b[0m\u001b[0;34m(\u001b[0m\u001b[0;34m\"biggan128-ada\"\u001b[0m\u001b[0;34m,\u001b[0m\u001b[0mdataset_size\u001b[0m\u001b[0;34m=\u001b[0m\u001b[0;36m25\u001b[0m\u001b[0;34m,\u001b[0m\u001b[0mresume\u001b[0m\u001b[0;34m=\u001b[0m\u001b[0mexp_dir\u001b[0m\u001b[0;34m+\u001b[0m\u001b[0;34m\"checkpoint_iter25000.pth.tar\"\u001b[0m\u001b[0;34m)\u001b[0m\u001b[0;34m\u001b[0m\u001b[0;34m\u001b[0m\u001b[0m\n\u001b[1;32m      6\u001b[0m \u001b[0mmodel\u001b[0m \u001b[0;34m=\u001b[0m \u001b[0mmodel\u001b[0m\u001b[0;34m.\u001b[0m\u001b[0mcuda\u001b[0m\u001b[0;34m(\u001b[0m\u001b[0;34m)\u001b[0m\u001b[0;34m\u001b[0m\u001b[0;34m\u001b[0m\u001b[0m\n",
            "\u001b[0;31mFileNotFoundError\u001b[0m: [Errno 2] No such file or directory: './experiments/train_dataset-rave_model-biggan128-ada_2019-09-03-20-51-16/args.json'"
          ]
        }
      ]
    },
    {
      "cell_type": "code",
      "metadata": {
        "id": "P7Y_2KtyMkc4"
      },
      "source": [
        "reconstruct(model,out_path=\"./samples/rave_reconstruct.jpg\",indices= torch.arange(9))\n",
        "interpolate(model,out_path=\"./samples/rave_interpolate.jpg\",source=5,dist=10)\n",
        "random(model,out_path=\"./samples/rave_random.jpg\",tmp=0.8, n=9, truncate=True)\n",
        "\n",
        "plt.figure(figsize=(10,10))\n",
        "im = Image.open(\"./samples/rave_reconstruct.jpg\")\n",
        "plt.imshow(im)\n",
        "plt.show()\n",
        "\n",
        "plt.figure(figsize=(20,20))\n",
        "im = Image.open(\"./samples/rave_interpolate.jpg\")\n",
        "plt.imshow(im)\n",
        "plt.show()\n",
        "\n",
        "plt.figure(figsize=(10,10))\n",
        "im = Image.open(\"./samples/rave_random.jpg\")\n",
        "plt.imshow(im)\n",
        "plt.show()"
      ],
      "execution_count": null,
      "outputs": []
    },
    {
      "cell_type": "code",
      "metadata": {
        "id": "B-RtvsW9Q6b9"
      },
      "source": [
        "random(model,out_path=\"./samples/rave_random89.jpg\",tmp=0.85, n=56, truncate=True)\n",
        "\n",
        "plt.figure(figsize=(10,10))\n",
        "im = Image.open(\"./samples/rave_random89.jpg\")\n",
        "plt.imshow(im)\n",
        "plt.show()"
      ],
      "execution_count": null,
      "outputs": []
    },
    {
      "cell_type": "code",
      "metadata": {
        "id": "Xq_4XOFRSuXQ"
      },
      "source": [
        "uploaded = drive.CreateFile({'title': 'rave_random2.jpg'})\n",
        "uploaded.SetContentFile('./samples/rave_random2.jpg')\n",
        "uploaded.Upload()\n",
        "print('Uploaded file with ID {}'.format(uploaded.get('id')))"
      ],
      "execution_count": null,
      "outputs": []
    },
    {
      "cell_type": "code",
      "metadata": {
        "id": "P_Gh3KjvdLE_"
      },
      "source": [
        "!pip install -U -q PyDrive\n",
        "from pydrive.auth import GoogleAuth\n",
        "from pydrive.drive import GoogleDrive\n",
        "from google.colab import auth\n",
        "from oauth2client.client import GoogleCredentials"
      ],
      "execution_count": null,
      "outputs": []
    },
    {
      "cell_type": "code",
      "metadata": {
        "id": "DOUk9whgdUae"
      },
      "source": [
        "auth.authenticate_user()\n",
        "gauth = GoogleAuth()\n",
        "gauth.credentials = GoogleCredentials.get_application_default()\n",
        "drive = GoogleDrive(gauth)"
      ],
      "execution_count": null,
      "outputs": []
    },
    {
      "cell_type": "code",
      "metadata": {
        "id": "oFSaPvFgdhmh"
      },
      "source": [
        "uploaded = drive.CreateFile({'title': 'checkpoint_iter25000.pth.tar'})\n",
        "uploaded.SetContentFile('./experiments/train_dataset-rave_model-biggan128-ada_2019-06-01-07-22-28/checkpoint_iter25000.pth.tar')\n",
        "uploaded.Upload()\n",
        "print('Uploaded file with ID {}'.format(uploaded.get('id')))"
      ],
      "execution_count": null,
      "outputs": []
    },
    {
      "cell_type": "code",
      "metadata": {
        "id": "H64aDoJogEx7"
      },
      "source": [
        "uploaded = drive.CreateFile({'title': 'train-log.json'})\n",
        "uploaded.SetContentFile('./experiments/train_dataset-rave_model-biggan128-ada_2019-06-01-07-22-28/train-log.json')\n",
        "uploaded.Upload()\n",
        "print('Uploaded file with ID {}'.format(uploaded.get('id')))"
      ],
      "execution_count": null,
      "outputs": []
    }
  ]
}